{
 "cells": [
  {
   "cell_type": "code",
   "execution_count": 3,
   "metadata": {},
   "outputs": [],
   "source": [
    "import requests\n",
    "from bs4 import BeautifulSoup \n",
    "# biblioteki do pobrania kodu ze strony"
   ]
  },
  {
   "cell_type": "code",
   "execution_count": 4,
   "metadata": {},
   "outputs": [],
   "source": [
    "URL = 'https://mediamarkt.pl/rtv-i-telewizory/telewizory?sort=0&limit=100&page=1'\n",
    "page = requests.get(URL)\n",
    "# pobieranie kodu ze strony"
   ]
  },
  {
   "cell_type": "code",
   "execution_count": 5,
   "metadata": {},
   "outputs": [],
   "source": [
    "soup = BeautifulSoup(page.content, 'html.parser') \n",
    "# porządkowanie kodu dzięki bibliotece BeautifulSoup"
   ]
  },
  {
   "cell_type": "code",
   "execution_count": 6,
   "metadata": {},
   "outputs": [],
   "source": [
    "job_elems = soup.find_all('div', class_='m-productsBox_photo js-productsBox_photo g-posr') \n",
    "# ograniczenie kodu tylko do elementu konkretnej klasy, zawężenie z ponad 20 000 linijek do 450"
   ]
  },
  {
   "cell_type": "code",
   "execution_count": 7,
   "metadata": {},
   "outputs": [],
   "source": [
    "str_class_soup = str(job_elems) # zamiana typu z obiektu na string"
   ]
  },
  {
   "cell_type": "code",
   "execution_count": 8,
   "metadata": {},
   "outputs": [],
   "source": [
    "# zakończenie użycia bibliotek dedytkowanych do html\n",
    "# użycie funkcji do operacji na łańcuchach znaków\n",
    "\n",
    "def list_elements(html,s_first,s_second):\n",
    "    my_list = []\n",
    "    x=0\n",
    "    length=len(html)\n",
    "    y = 1\n",
    "\n",
    "    while(x < length and y == 1):\n",
    "        intindex1=html.find(s_first,x)\n",
    "        if(intindex1 != -1):\n",
    "            intindex1 = intindex1+len(s_first)\n",
    "            intindex2 = html.find(s_second,intindex1)\n",
    "            if(intindex2 != -1):\n",
    "                subsequence=html[intindex1:intindex2]\n",
    "                my_list.append(subsequence)\n",
    "                x=intindex2+len(s_second)\n",
    "            else:\n",
    "                y=0\n",
    "        else:\n",
    "            y=0\n",
    "    return my_list"
   ]
  },
  {
   "cell_type": "code",
   "execution_count": 9,
   "metadata": {},
   "outputs": [],
   "source": [
    "TV = list_elements(str_class_soup, 'data-offer-name=\"', '\"') \n",
    "#TV\n",
    "Cena = list_elements(str_class_soup, 'data-offer-price=\"', '\"') \n",
    "#Cena"
   ]
  },
  {
   "cell_type": "code",
   "execution_count": 10,
   "metadata": {
    "scrolled": false
   },
   "outputs": [
    {
     "name": "stdout",
     "output_type": "stream",
     "text": [
      "{'Telewizor SAMSUNG UE65RU7452U': '3199.00', 'Telewizor QLED SAMSUNG QE55Q60RAT': '3499.00', 'Telewizor SAMSUNG UE43RU7022K': '1499.00', 'Telewizor SAMSUNG UE50RU7022K': '1699.00', 'Telewizor SAMSUNG UE55RU7452U': '2599.00', 'Telewizor SAMSUNG UE50RU7452U': '2199.00', 'Telewizor SAMSUNG UE55RU7022K': '1999.00', 'Telewizor QLED SAMSUNG QE65Q60RAT': '4499.00', 'Telewizor PHILIPS 32PFS5823/12': '1049.00', 'Telewizor PHILIPS 32PHT4503/12': '699.00', 'Telewizor PHILIPS 43PUS6554/12': '1499.00', 'Telewizor SONY KD-55XG8505': '3499.00', 'Telewizor SONY KD-55XG8096': '2999.00', 'Telewizor SONY KD-65XG8505': '4999.00', 'Telewizor SONY KDL-40WE665': '1797.00', 'Telewizor SHARP 32BC3E': '799.00', 'Telewizor SONY KD-55XF9005': '3999.00', 'Telewizor SAMSUNG UE43RU7452U': '1899.00', 'Telewizor QLED SAMSUNG QE65Q70RAT': '5499.00', 'Telewizor SHARP 40BF2E': '949.00', 'Telewizor PHILIPS 43PUS6754/12': '1699.00', 'Telewizor SONY KD-55AG8': '7499.00', 'Telewizor LG 55SM8600PLA': '2999.00', 'Telewizor PANASONIC TX-58GX830E': '3099.00', 'Telewizor PHILIPS 65PUS7304/12': '3799.00', 'Telewizor BLAUPUNKT BLA-32/133O-WB-11B-EGBQP-EU': '547.00', 'Telewizor BLAUPUNKT BLA-236/207O-GB-3B-EGBQP-EU': '459.00', 'Telewizor SONY KD-65XF9005': '5399.00', 'Telewizor LG 49UM7100PLB': '1699.00', 'Telewizor SONY KD-49XG8096': '2499.00', 'Telewizor QLED SAMSUNG QE55Q70RAT': '3999.00', 'Telewizor PHILIPS 50PUS7334/12': '2229.00', 'Telewizor PANASONIC TX-65FX740E': '3999.00', 'Telewizor LG 43LM6300PLA': '1399.00', 'Telewizor PHILIPS 55PUS7334/12': '2799.00', 'Telewizor SONY KD-65XF7096': '2999.00', 'Telewizor PHILIPS 50PUS6554/12': '1599.00', 'Telewizor SONY KDL-40WE660': '1599.00', 'Telewizor SONY KD-55XG9505': '4999.00', 'Telewizor LG 32LK510BPLD': '799.00', 'Telewizor LG 49SM8600PLA': '2799.00', 'Telewizor PHILIPS 43PFT5503/12': '1099.00', 'Telewizor LG 55UM7100PLB': '1999.00', 'Telewizor SAMSUNG UE55RU8002U': '2799.00', 'Telewizor LG 43LK5100': '1199.00', 'Telewizor BLAUPUNKT BN40F1042EEB': '799.00', 'Telewizor BLAUPUNKT BN24H1012EEB': '429.00', 'Telewizor SHARP 40BL2EA': '1399.00', 'Telewizor SONY KD-75XG8096': '5999.00', 'Telewizor SHARP 40BG0EO': '1099.00', 'Telewizor SONY KD-75XG9505': '10999.00', 'Telewizor SAMSUNG UE32N5302AK': '1397.00', 'Telewizor PHILIPS 43PUS7334/12': '2099.00', 'Telewizor SAMSUNG UE65RU7022K': '3499.00', 'Telewizor SAMSUNG UE70RU7022K': '3499.00', 'Telewizor QLED SAMSUNG QE75Q70RAT': '8949.00', 'Telewizor PHILIPS 50PUS6754/12': '1799.00', 'Telewizor SONY KD-49XG7005': '2299.00', 'Telewizor QLED SAMSUNG QE65Q90RAT': '9739.00', 'Telewizor SHARP 65BL2EA': '2999.00', 'Telewizor SONY KDL-32WD750': '1699.00', 'Telewizor SONY KD-65XG9505': '6499.00', 'Telewizor SKYMASTER 24SF2500': '437.00', 'Telewizor SONY KD-43XG8305': '3299.00', 'Telewizor PHILIPS 75PUS7354/12': '5999.00', 'Telewizor LG 75UK6200PLB': '4499.00', 'Telewizor TOSHIBA 32L1763DG': '727.00', 'Telewizor BLAUPUNKT BN39H1032EEB': '699.00', 'Telewizor SAMSUNG QE65Q80RAT': '6989.00', 'Telewizor LG 65SM8200PLA': '3999.00', 'Telewizor SHARP LC-24CHF4012E': '499.00', 'Telewizor PHILIPS 70PUS7304/12': '4499.00', 'Telewizor PANASONIC TX-40GX700E': '2099.00', 'Telewizor SONY KD-55XG7005': '2349.00', 'Telewizor PHILIPS 55OLED854/12': '6999.00', 'Telewizor LG 43UM7100PLB': '1499.00', 'Telewizor SONY KD-65AG8': '9999.00', 'Telewizor PHILIPS 65PUS6754/12': '2899.00', 'Telewizor PANASONIC TX-50GX830E': '2799.00', 'Telewizor SHARP 50BL3EA': '1699.00', 'Telewizor SONY KD-65XG8096': '3999.00', 'Telewizor LG 65UM7100PLA': '2949.00', 'Telewizor SONY KD-85XG8596': '10999.00', 'Telewizor SONY KDL-32WE610': '1199.00', 'Telewizor SONY KDL-50WF660': '1699.00', 'Telewizor QLED SAMSUNG QE65Q85RAT': '9499.00', 'Telewizor QLED SAMSUNG QE49Q70RAT': '3999.00', 'Telewizor PHILIPS 24PHS4304/12': '599.00', 'Telewizor SHARP LC-32HI3222E': '649.00', 'Telewizor PHILIPS 55PUS6754/12': '2199.00', 'Telewizor SONY KD-75XG8596': '7999.00', 'Telewizor SHARP 55BL2EA': '1999.00', 'Telewizor SONY KD-65XG7096': '3299.00', 'Telewizor QLED SAMSUNG QE55Q90RAT': '7499.00', 'Telewizor LG 65SM8600PLA': '4499.00', 'Telewizor SONY KD-65AG9': '13999.00', 'Telewizor SONY KD-49XG8396': '3599.00', 'Telewizor SONY KD-43XG8096': '2699.00', 'Telewizor PANASONIC TX-40GX830E': '2799.00', 'Telewizor SENCOR SPV 7012T': '399.00'}\n"
     ]
    }
   ],
   "source": [
    "page_1 = dict(zip(TV, Cena)) \n",
    "#łączenie listy w słownik\n",
    "print(page_1)"
   ]
  },
  {
   "cell_type": "code",
   "execution_count": 34,
   "metadata": {},
   "outputs": [],
   "source": [
    "import csv"
   ]
  },
  {
   "cell_type": "code",
   "execution_count": 35,
   "metadata": {},
   "outputs": [],
   "source": [
    "with open('mycsvfile.csv', 'w') as f:\n",
    "    w = csv.DictWriter(f, page_1.keys())\n",
    "    w.writeheader()\n",
    "    w.writerow(page_1)"
   ]
  }
 ],
 "metadata": {
  "kernelspec": {
   "display_name": "Python 3",
   "language": "python",
   "name": "python3"
  },
  "language_info": {
   "codemirror_mode": {
    "name": "ipython",
    "version": 3
   },
   "file_extension": ".py",
   "mimetype": "text/x-python",
   "name": "python",
   "nbconvert_exporter": "python",
   "pygments_lexer": "ipython3",
   "version": "3.7.1"
  }
 },
 "nbformat": 4,
 "nbformat_minor": 2
}
